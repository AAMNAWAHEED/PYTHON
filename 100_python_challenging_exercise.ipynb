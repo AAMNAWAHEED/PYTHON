{
  "nbformat": 4,
  "nbformat_minor": 0,
  "metadata": {
    "colab": {
      "provenance": [],
      "authorship_tag": "ABX9TyO1t0we2jwTAlfyOvsfTpm4",
      "include_colab_link": true
    },
    "kernelspec": {
      "name": "python3",
      "display_name": "Python 3"
    },
    "language_info": {
      "name": "python"
    }
  },
  "cells": [
    {
      "cell_type": "markdown",
      "metadata": {
        "id": "view-in-github",
        "colab_type": "text"
      },
      "source": [
        "<a href=\"https://colab.research.google.com/github/AAMNAWAHEED/PYTHON/blob/master/100_python_challenging_exercise.ipynb\" target=\"_parent\"><img src=\"https://colab.research.google.com/assets/colab-badge.svg\" alt=\"Open In Colab\"/></a>"
      ]
    },
    {
      "cell_type": "markdown",
      "source": [
        "Question 1\n",
        "Level 1\n",
        "\n",
        "Question:\n",
        "Write a program which will find all such numbers which are divisible by 7 but are not a multiple of 5,\n",
        "between 2000 and 3200 (both included).\n",
        "The numbers obtained should be printed in a comma-separated sequence on a single line."
      ],
      "metadata": {
        "id": "WETu_CMUojSB"
      }
    },
    {
      "cell_type": "code",
      "execution_count": null,
      "metadata": {
        "colab": {
          "base_uri": "https://localhost:8080/"
        },
        "id": "Tjp0QNQNoaDP",
        "outputId": "f30fa7a8-ec34-405c-b36a-e493c889d95a"
      },
      "outputs": [
        {
          "output_type": "stream",
          "name": "stdout",
          "text": [
            "2002,2009,2016,2023,2037,2044,2051,2058,2072,2079,2086,2093,2107,2114,2121,2128,2142,2149,2156,2163,2177,2184,2191,2198,2212,2219,2226,2233,2247,2254,2261,2268,2282,2289,2296,2303,2317,2324,2331,2338,2352,2359,2366,2373,2387,2394,2401,2408,2422,2429,2436,2443,2457,2464,2471,2478,2492,2499,2506,2513,2527,2534,2541,2548,2562,2569,2576,2583,2597,2604,2611,2618,2632,2639,2646,2653,2667,2674,2681,2688,2702,2709,2716,2723,2737,2744,2751,2758,2772,2779,2786,2793,2807,2814,2821,2828,2842,2849,2856,2863,2877,2884,2891,2898,2912,2919,2926,2933,2947,2954,2961,2968,2982,2989,2996,3003,3017,3024,3031,3038,3052,3059,3066,3073,3087,3094,3101,3108,3122,3129,3136,3143,3157,3164,3171,3178,3192,3199,"
          ]
        }
      ],
      "source": [
        "def special_num():\n",
        "  for i in range(2000,3201):\n",
        "    if i % 7 == 0 and i % 5!=0:\n",
        "      print(i,end=\",\")\n",
        "special_num()"
      ]
    },
    {
      "cell_type": "markdown",
      "source": [
        "Question 2\n",
        "Level 1\n",
        "\n",
        "Question:\n",
        "Write a program which can compute the factorial of a given numbers.\n",
        "The results should be printed in a comma-separated sequence on a single line.\n",
        "Suppose the following input is supplied to the program:\n",
        "8\n",
        "Then, the output should be:\n",
        "40320"
      ],
      "metadata": {
        "id": "EXq7WqDfpaxU"
      }
    },
    {
      "cell_type": "code",
      "source": [
        "\"\"\"\n",
        "import math\n",
        "def factorial(num):\n",
        "  res = math.factorial(num)\n",
        "  print(res)\n",
        "factorial(8)\n",
        "\"\"\"\n",
        "def factorial(num):\n",
        "  res=1\n",
        "  for i in range(num,0,-1):\n",
        "    res = res * i\n",
        "  print(res)\n",
        "\n",
        "factorial(8)\n",
        "\n"
      ],
      "metadata": {
        "colab": {
          "base_uri": "https://localhost:8080/"
        },
        "id": "SOw8eq1ype-1",
        "outputId": "d1821a74-3739-41bd-824f-0fdcc5ca93e7"
      },
      "execution_count": null,
      "outputs": [
        {
          "output_type": "stream",
          "name": "stdout",
          "text": [
            "40320\n"
          ]
        }
      ]
    },
    {
      "cell_type": "markdown",
      "source": [
        "Question 3\n",
        "Level 1\n",
        "\n",
        "Question:\n",
        "With a given integral number n, write a program to generate a dictionary that contains (i, i*i) such that is an integral number between 1 and n (both included). and then the program should print the dictionary.\n",
        "Suppose the following input is supplied to the program:\n",
        "8\n",
        "Then, the output should be:\n",
        "{1: 1, 2: 4, 3: 9, 4: 16, 5: 25, 6: 36, 7: 49, 8: 64}"
      ],
      "metadata": {
        "id": "ug3goURTqaBa"
      }
    },
    {
      "cell_type": "code",
      "source": [
        "def generate_dict(num):\n",
        "  dict = {}\n",
        "  for i in range(1,num+1):\n",
        "    dict[i] = i*i\n",
        "  print(dict)\n",
        "generate_dict(8)\n"
      ],
      "metadata": {
        "colab": {
          "base_uri": "https://localhost:8080/"
        },
        "id": "nXoheyr9qfOo",
        "outputId": "e25cb13c-55e9-4509-d8ed-9dfe3ff7ba42"
      },
      "execution_count": null,
      "outputs": [
        {
          "output_type": "stream",
          "name": "stdout",
          "text": [
            "{1: 1, 2: 4, 3: 9, 4: 16, 5: 25, 6: 36, 7: 49, 8: 64}\n"
          ]
        }
      ]
    },
    {
      "cell_type": "markdown",
      "source": [
        "Question 4\n",
        "Level 1\n",
        "\n",
        "Question:\n",
        "Write a program which accepts a sequence of comma-separated numbers from console and generate a list and a tuple which contains every number.\n",
        "Suppose the following input is supplied to the program:\n",
        "34,67,55,33,12,98\n",
        "Then, the output should be:\n",
        "['34', '67', '55', '33', '12', '98']\n",
        "('34', '67', '55', '33', '12', '98')\n",
        "\n"
      ],
      "metadata": {
        "id": "4frTZucNrAbJ"
      }
    },
    {
      "cell_type": "code",
      "source": [
        "num  = input(\"enter comma separated numbers\")\n",
        "l = num.split(',')\n",
        "t = tuple(l)\n",
        "print(l)\n",
        "print(t)"
      ],
      "metadata": {
        "colab": {
          "base_uri": "https://localhost:8080/"
        },
        "id": "yDR3q52Br0_-",
        "outputId": "da2b9464-d046-4d7f-a6f4-37adbdba69b6"
      },
      "execution_count": null,
      "outputs": [
        {
          "output_type": "stream",
          "name": "stdout",
          "text": [
            "enter comma separated numbers34,67,55,33,12,98\n",
            "['34', '67', '55', '33', '12', '98']\n",
            "('34', '67', '55', '33', '12', '98')\n"
          ]
        }
      ]
    },
    {
      "cell_type": "markdown",
      "source": [
        "Question 5\n",
        "Level 1\n",
        "\n",
        "Question:\n",
        "Define a class which has at least two methods:\n",
        "getString: to get a string from console input\n",
        "printString: to print the string in upper case.\n",
        "Also please include simple test function to test the class methods."
      ],
      "metadata": {
        "id": "x9GjGu0osLsj"
      }
    },
    {
      "cell_type": "code",
      "source": [
        "class Test:\n",
        "  def __init__(self):\n",
        "    self.str = \"\"\n",
        "  def getString(self):\n",
        "    self.str = input(\"enter string\")\n",
        "  def printString(self):\n",
        "    print(self.str.upper())\n",
        "t1 = Test()\n",
        "t1.getString()\n",
        "t1.printString()\n"
      ],
      "metadata": {
        "id": "Cn4dhBYxsP63",
        "colab": {
          "base_uri": "https://localhost:8080/"
        },
        "outputId": "b45dee7c-f703-41ad-d484-28cadb341ad6"
      },
      "execution_count": null,
      "outputs": [
        {
          "output_type": "stream",
          "name": "stdout",
          "text": [
            "enter stringmystring\n",
            "MYSTRING\n"
          ]
        }
      ]
    },
    {
      "cell_type": "markdown",
      "source": [
        "Question:\n",
        "Write a program that calculates and prints the value according to the given formula:\n",
        "Q = Square root of [(2 * C * D)/H]\n",
        "Following are the fixed values of C and H:\n",
        "C is 50. H is 30.\n",
        "D is the variable whose values should be input to your program in a comma-separated sequence.\n",
        "Example\n",
        "Let us assume the following comma separated input sequence is given to the program:\n",
        "100,150,180\n",
        "The output of the program should be:\n",
        "18,22,24\n"
      ],
      "metadata": {
        "id": "PsX2ZjtfuRtl"
      }
    },
    {
      "cell_type": "code",
      "source": [
        "import math\n",
        "def calculate(l):\n",
        "  c = 50\n",
        "  h  = 30\n",
        "  res = []\n",
        "  for d in l:\n",
        "    res.append(int(math.sqrt((2*c*int(d))/h)))\n",
        "  return res\n",
        "\n",
        "inp = input(\"Enter comma separated numbers\")\n",
        "l = inp.split(\",\")\n",
        "r = calculate(l)\n",
        "print(r)\n",
        "\n"
      ],
      "metadata": {
        "colab": {
          "base_uri": "https://localhost:8080/"
        },
        "id": "_v1uZlpiuT9L",
        "outputId": "1cee2dc1-1374-40a3-f050-84a6d66a60b7"
      },
      "execution_count": null,
      "outputs": [
        {
          "output_type": "stream",
          "name": "stdout",
          "text": [
            "Enter comma separated numbers100,150,180\n",
            "[18, 22, 24]\n"
          ]
        }
      ]
    },
    {
      "cell_type": "markdown",
      "source": [
        "***\n",
        "Question 7\n",
        "Level 2\n",
        "\n",
        "Question:\n",
        "Write a program which takes 2 digits, X,Y as input and generates a 2-dimensional array. The element value in the i-th row and j-th column of the array should be i*j.\n",
        "Note: i=0,1.., X-1; j=0,1,¡­Y-1.\n",
        "Example\n",
        "Suppose the following inputs are given to the program:\n",
        "3,5\n",
        "Then, the output of the program should be:\n",
        "[[0, 0, 0, 0, 0], [0, 1, 2, 3, 4], [0, 2, 4, 6, 8]] ***"
      ],
      "metadata": {
        "id": "9DNR3VuJwlPq"
      }
    },
    {
      "cell_type": "markdown",
      "source": [
        "Question 8\n",
        "Level 2\n",
        "\n",
        "Question:\n",
        "Write a program that accepts a comma separated sequence of words as input and prints the words in a comma-separated sequence after sorting them alphabetically.\n",
        "Suppose the following input is supplied to the program:\n",
        "without,hello,bag,world\n",
        "Then, the output should be:\n",
        "bag,hello,without,world"
      ],
      "metadata": {
        "id": "d2ovtTxT72qe"
      }
    },
    {
      "cell_type": "code",
      "source": [
        "def sorting(l):\n",
        "  l.sort()\n",
        "  str= \"\"\n",
        "  for word in l:\n",
        "    str+=word\n",
        "    str+=\",\"\n",
        "  return str\n",
        "\n",
        "seq = input(\"enter comma separated strings\")\n",
        "l = list(seq.split(\",\"))\n",
        "print(sorting(l))\n",
        "\n",
        "\n",
        "\n"
      ],
      "metadata": {
        "id": "C_J3sUk4wpbZ",
        "colab": {
          "base_uri": "https://localhost:8080/"
        },
        "outputId": "1e4bc687-f0c7-4692-8354-c917a0305c49"
      },
      "execution_count": 12,
      "outputs": [
        {
          "output_type": "stream",
          "name": "stdout",
          "text": [
            "enter comma separated stringshello,bag,world\n",
            "['hello', 'bag', 'world']\n",
            "['bag', 'hello', 'world']\n",
            "bag,hello,world,\n"
          ]
        }
      ]
    },
    {
      "cell_type": "markdown",
      "source": [
        "Question 9\n",
        "Level 2\n",
        "\n",
        "Question£º\n",
        "Write a program that accepts sequence of lines as input and prints the lines after making all characters in the sentence capitalized.\n",
        "Suppose the following input is supplied to the program:\n",
        "Hello world\n",
        "Practice makes perfect\n",
        "Then, the output should be:\n",
        "HELLO WORLD\n",
        "PRACTICE MAKES PERFECT"
      ],
      "metadata": {
        "id": "qCyF5tBC-DOy"
      }
    },
    {
      "cell_type": "code",
      "source": [
        "lines = []\n",
        "while True:\n",
        "  str = input(\"enter sentence\")\n",
        "  lines.append(str.upper())\n",
        "  check = input(\"continue?\")\n",
        "  if check == 'No':\n",
        "    break\n",
        "for sentence in lines:\n",
        "  print(sentence)"
      ],
      "metadata": {
        "colab": {
          "base_uri": "https://localhost:8080/"
        },
        "id": "X89YNhDM-HEY",
        "outputId": "cb668b44-af4c-46ed-8ba5-7db069badd7c"
      },
      "execution_count": 7,
      "outputs": [
        {
          "output_type": "stream",
          "name": "stdout",
          "text": [
            "enter sentencehello\n",
            "continue?y\n",
            "enter sentenceworld\n",
            "continue?y\n",
            "enter sentencepractice\n",
            "continue?y\n",
            "enter sentencemakes\n",
            "continue?y\n",
            "enter sentenceperfect\n",
            "continue?No\n",
            "HELLO\n",
            "WORLD\n",
            "PRACTICE\n",
            "MAKES\n",
            "PERFECT\n"
          ]
        }
      ]
    },
    {
      "cell_type": "markdown",
      "source": [
        "Question 10\n",
        "Level 2\n",
        "\n",
        "Question:\n",
        "Write a program that accepts a sequence of whitespace separated words as input and prints the words after removing all duplicate words and sorting them alphanumerically.\n",
        "Suppose the following input is supplied to the program:\n",
        "hello world and practice makes perfect and hello world again\n",
        "Then, the output should be:\n",
        "again and hello makes perfect practice world"
      ],
      "metadata": {
        "id": "EOMd45vJAqjX"
      }
    },
    {
      "cell_type": "code",
      "source": [
        "#remove duplicates\n",
        "#sort\n",
        "def sorting(str):\n",
        "  l = list(str.split(\" \"))\n",
        "  new_list = []\n",
        "  for word in l:\n",
        "    if word in new_list:\n",
        "      continue\n",
        "    else:\n",
        "      new_list.append(word)\n",
        "  print(sorted(new_list))\n",
        "str = input(\"enter string \")\n",
        "sorting(str)\n",
        "\n"
      ],
      "metadata": {
        "colab": {
          "base_uri": "https://localhost:8080/"
        },
        "id": "Z0S05ZzOArfj",
        "outputId": "85225c2d-1849-42d0-c7d8-6aec89ce5c75"
      },
      "execution_count": 14,
      "outputs": [
        {
          "output_type": "stream",
          "name": "stdout",
          "text": [
            "enter string hello world and practice makes perfect and hello world again\n",
            "['again', 'and', 'hello', 'makes', 'perfect', 'practice', 'world']\n"
          ]
        }
      ]
    },
    {
      "cell_type": "markdown",
      "source": [
        "Question 11\n",
        "Level 2\n",
        "\n",
        "Question:\n",
        "Write a program which accepts a sequence of comma separated 4 digit binary numbers as its input and then check whether they are divisible by 5 or not. The numbers that are divisible by 5 are to be printed in a comma separated sequence.\n",
        "Example:\n",
        "0100,0011,1010,1001\n",
        "Then the output should be:\n",
        "1010\n",
        "Notes: Assume the data is input by console."
      ],
      "metadata": {
        "id": "wbHKC9NjDst5"
      }
    },
    {
      "cell_type": "code",
      "source": [
        "str = input(\"enter comma separated 4 digits binary numbers\")\n",
        "output = \"\"\n",
        "for l in list(str.split(\",\")):\n",
        "  if int(l) % 5 == 0:\n",
        "    output+=l\n",
        "    output+=\",\"\n",
        "print(output)\n",
        "\n",
        "  "
      ],
      "metadata": {
        "colab": {
          "base_uri": "https://localhost:8080/"
        },
        "id": "g4iTL762DsUX",
        "outputId": "8bf0a11d-725a-4d59-994d-43aaa780c02b"
      },
      "execution_count": 16,
      "outputs": [
        {
          "output_type": "stream",
          "name": "stdout",
          "text": [
            "enter comma separated 4 digits binary numbers0100,0011,1010,1001\n",
            "0100,1010,\n"
          ]
        }
      ]
    },
    {
      "cell_type": "markdown",
      "source": [
        "Question 12\n",
        "Level 2\n",
        "\n",
        "Question:\n",
        "Write a program, which will find all such numbers between 1000 and 3000 (both included) such that each digit of the number is an even number.\n",
        "The numbers obtained should be printed in a comma-separated sequence on a single line."
      ],
      "metadata": {
        "id": "KB0lQRyrE-0p"
      }
    }
  ]
}