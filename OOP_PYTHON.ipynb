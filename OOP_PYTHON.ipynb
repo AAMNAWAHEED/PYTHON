{
  "nbformat": 4,
  "nbformat_minor": 0,
  "metadata": {
    "colab": {
      "provenance": [],
      "authorship_tag": "ABX9TyM9mZ5SoP8nh2iPd8s7wW+0",
      "include_colab_link": true
    },
    "kernelspec": {
      "name": "python3",
      "display_name": "Python 3"
    },
    "language_info": {
      "name": "python"
    }
  },
  "cells": [
    {
      "cell_type": "markdown",
      "metadata": {
        "id": "view-in-github",
        "colab_type": "text"
      },
      "source": [
        "<a href=\"https://colab.research.google.com/github/AAMNAWAHEED/PYTHON/blob/master/OOP_PYTHON.ipynb\" target=\"_parent\"><img src=\"https://colab.research.google.com/assets/colab-badge.svg\" alt=\"Open In Colab\"/></a>"
      ]
    },
    {
      "cell_type": "code",
      "execution_count": null,
      "metadata": {
        "colab": {
          "base_uri": "https://localhost:8080/"
        },
        "id": "9BjdOAcdvauQ",
        "outputId": "364b1698-02b9-4f7d-f99c-78f45fd22e21"
      },
      "outputs": [
        {
          "output_type": "stream",
          "name": "stdout",
          "text": [
            "23\n"
          ]
        }
      ],
      "source": [
        " class Dog:\n",
        "  def __init__(self,name,age):\n",
        "    self.name=name\n",
        "    self.age=age\n",
        "  def set_age(self,age):\n",
        "    self.age=age\n",
        "  def set_hei(self,height):\n",
        "    self.height=height\n",
        "  def bark(self):\n",
        "    print(\"barking\")\n",
        "d=Dog(\"Bill\",12)\n",
        "d.set_hei(23)\n",
        "print(d.height)\n"
      ]
    },
    {
      "cell_type": "code",
      "source": [
        "class Student:\n",
        "  \n",
        "  def __init__(self,name,age,grade):\n",
        "    self.age=age\n",
        "    self.name=name\n",
        "    self.grade=grade\n",
        "  def get_grade(self):\n",
        "    return self.grade\n",
        "class Course:\n",
        "  def __init__(self,course,max_stu):\n",
        "    self.course=course\n",
        "    self.max_stu=max_stu\n",
        "    self.students=[]\n",
        "    \n",
        "  def add_stu(self,student):\n",
        "    if len(self.students) < self.max_stu:\n",
        "      self.students.append(student)\n",
        "  def get_avg_grade(self):\n",
        "    value=0\n",
        "    for stu in self.students:\n",
        "      value +=stu.get_grade()\n",
        "    avg=value/len(self.students)\n",
        "    return avg\n",
        "    \n",
        "\n",
        "\n",
        "s1=Student(\"ali\",22,95)\n",
        "s2=Student(\"hassan\",23,75)\n",
        "s3=Student(\"jamal\",21,99)\n",
        "course = Course(\"science\",2)\n",
        "course.add_stu(s1)\n",
        "print(course.get_avg_grade())\n"
      ],
      "metadata": {
        "colab": {
          "base_uri": "https://localhost:8080/"
        },
        "id": "rI5tP6T8z4i8",
        "outputId": "5ad0eb09-8ee3-4749-bdbd-ae3591a8e01b"
      },
      "execution_count": null,
      "outputs": [
        {
          "output_type": "stream",
          "name": "stdout",
          "text": [
            "95.0\n"
          ]
        }
      ]
    },
    {
      "cell_type": "code",
      "source": [
        "class Pet:\n",
        "  def __init__(self,name,age):\n",
        "    self.name=name\n",
        "    self.age=age\n",
        "  def show(self):\n",
        "    print(f\"{self.name}  {self.age}\")\n",
        "  def speak(self):\n",
        "    print(\"I dont know to speak\")\n",
        "class Cat(Pet):\n",
        "  def __init__(self,name,age,color):\n",
        "    super().__init__(name,age)\n",
        "    self.color=color\n",
        "  def show(self):\n",
        "    print(f\"{self.name}  {self.age} {self.color}\")\n",
        "  def speak(self):\n",
        "    print(\"meow\")\n",
        "class Dog(Pet):\n",
        "  def speak(self):\n",
        "    print(\"woof\")\n",
        "class Fish(Pet):\n",
        "  pass\n",
        "p=Pet(\"bill\",2)\n",
        "c=Cat(\"jill\",3,'red')\n",
        "c.show()\n",
        "c.speak()\n",
        "d=Dog('john',4)\n",
        "d.speak()\n",
        "d.show()\n",
        "f = Fish(\"fiff\",1)\n",
        "f.show()\n",
        "f.speak()\n",
        "\n",
        "\n"
      ],
      "metadata": {
        "colab": {
          "base_uri": "https://localhost:8080/"
        },
        "id": "IWGylhLc7SHn",
        "outputId": "3f80a402-a6d9-472e-a6c6-8ed64f0b02b5"
      },
      "execution_count": null,
      "outputs": [
        {
          "output_type": "stream",
          "name": "stdout",
          "text": [
            "jill  3 red\n",
            "meow\n",
            "woof\n",
            "john  4\n",
            "fiff  1\n",
            "I dont know to speak\n"
          ]
        }
      ]
    },
    {
      "cell_type": "code",
      "source": [
        "class Person:\n",
        "  no_of_person = 0\n",
        "  def __init__(self,name):\n",
        "    self.name=name\n",
        "    Person.no_of_person +=1\n",
        "p1=Person(\"jill\")\n",
        "print(Person.no_of_person)\n",
        "p2 = Person(\"Bill\")\n",
        "print(Person.no_of_person)\n",
        "p3 = Person(\"kim\")\n",
        "print(p3.no_of_person)"
      ],
      "metadata": {
        "colab": {
          "base_uri": "https://localhost:8080/"
        },
        "id": "6l0ULV9Z9nt_",
        "outputId": "4f8f92e2-815c-44b8-d832-56868cfd6ccc"
      },
      "execution_count": null,
      "outputs": [
        {
          "output_type": "stream",
          "name": "stdout",
          "text": [
            "1\n",
            "2\n",
            "3\n"
          ]
        }
      ]
    },
    {
      "cell_type": "code",
      "source": [
        "class Person:\n",
        "  number_of_people = 0\n",
        "  def __init__(self,name):\n",
        "    self.name=name\n",
        "    Person.add_people()\n",
        "  @classmethod\n",
        "  def add_people(cls):\n",
        "    cls.number_of_people +=1\n",
        "p1 = Person(\"jim\")\n",
        "print(Person.number_of_people)\n",
        "p2 = Person(\"john\")\n",
        "print(Person.number_of_people)\n",
        "\n"
      ],
      "metadata": {
        "colab": {
          "base_uri": "https://localhost:8080/"
        },
        "id": "k1BL_2IeByBI",
        "outputId": "a13b8b2e-558d-41e3-f0af-be1d255a365c"
      },
      "execution_count": null,
      "outputs": [
        {
          "output_type": "stream",
          "name": "stdout",
          "text": [
            "1\n",
            "2\n"
          ]
        }
      ]
    },
    {
      "cell_type": "code",
      "source": [
        "class Math:\n",
        "  @classmethod\n",
        "  def pr(cls):\n",
        "    print(\"classmethod\")\n",
        "  @staticmethod\n",
        "  def add1(x):\n",
        "    return x+1\n",
        "print(Math.add1(5))\n",
        "Math.pr()\n",
        "m1 = Math()\n",
        "#m1.pr()"
      ],
      "metadata": {
        "colab": {
          "base_uri": "https://localhost:8080/"
        },
        "id": "f-Xau_e4DrQI",
        "outputId": "b0edb31f-c980-4e8a-dd21-4f7fa4305bc8"
      },
      "execution_count": null,
      "outputs": [
        {
          "output_type": "stream",
          "name": "stdout",
          "text": [
            "6\n",
            "classmethod\n"
          ]
        }
      ]
    },
    {
      "cell_type": "code",
      "source": [
        "#login\n",
        "class Student:\n",
        "  #class variable\n",
        "  no_of_stu=0\n",
        "  def __init__(self,name,id,password):\n",
        "    self.name=name\n",
        "    self.id=id\n",
        "    self.password=password\n",
        "    Student.no_of_stu+=1\n",
        "  \n",
        "  def login(self,id,password):\n",
        "    if self.id==id and self.password==password:\n",
        "      return \"valid user\"\n",
        "    else:\n",
        "      return \"invalid user\"\n",
        "  def info(self):\n",
        "    print(f\"\"\"\n",
        "    name={self.name} \n",
        "    id={self.id} \n",
        "    password={self.password}\n",
        "    student no:{Student.no_of_stu}\n",
        "    \"\"\")\n",
        "\n",
        "\n",
        "\n",
        "s1=Student('ali',1,123)\n",
        "s2=Student('amar',4,134)\n",
        "s3=Student('jill',2,11)"
      ],
      "metadata": {
        "id": "8Jric3wbNN43"
      },
      "execution_count": null,
      "outputs": []
    },
    {
      "cell_type": "code",
      "source": [
        "s3.info()"
      ],
      "metadata": {
        "colab": {
          "base_uri": "https://localhost:8080/"
        },
        "id": "srP5GhgAP28N",
        "outputId": "f429acf2-b538-4fef-f4f9-ab608a89d0b9"
      },
      "execution_count": null,
      "outputs": [
        {
          "output_type": "stream",
          "name": "stdout",
          "text": [
            "\n",
            "    name=jill \n",
            "    id=2 \n",
            "    password=11\n",
            "    student no:3\n",
            "    \n"
          ]
        }
      ]
    },
    {
      "cell_type": "code",
      "source": [
        "class Parent:\n",
        "  def __init__(self):\n",
        "    self.name=None\n",
        "    self.id=None\n",
        "\n",
        "p1=Parent()\n",
        "p1.id=1\n",
        "p1.name='jill'\n",
        "print(p1.id)"
      ],
      "metadata": {
        "colab": {
          "base_uri": "https://localhost:8080/"
        },
        "id": "u02565EsQJib",
        "outputId": "be1382c5-9a93-45f3-ad3f-f75e271aab10"
      },
      "execution_count": null,
      "outputs": [
        {
          "output_type": "stream",
          "name": "stdout",
          "text": [
            "1\n"
          ]
        }
      ]
    },
    {
      "cell_type": "code",
      "source": [
        "class Father:\n",
        "    def __init__(self):\n",
        "        self.name = 'jill'\n",
        "        self.fname = 'kam'     \n",
        "    def speak(self):\n",
        "        return \"Hahahah!\"    \n",
        "class Mother:\n",
        "    def __init__(self):\n",
        "        self.height = '5.8 feet'\n",
        "        self.color = 'white'\n",
        "        \n",
        "    def slient(self):\n",
        "        return \"...\"\n",
        "    \n",
        "class Child(Mother,Father):\n",
        "  def __int__(self):\n",
        "    super(Mother,Father).__init__()\n",
        "\n",
        "c1=Child()\n",
        "c1.name"
      ],
      "metadata": {
        "colab": {
          "base_uri": "https://localhost:8080/",
          "height": 208
        },
        "id": "kj2JdriPRI2I",
        "outputId": "13c8e022-b030-47c6-a0b5-4516a7186141"
      },
      "execution_count": null,
      "outputs": [
        {
          "output_type": "error",
          "ename": "AttributeError",
          "evalue": "ignored",
          "traceback": [
            "\u001b[0;31m---------------------------------------------------------------------------\u001b[0m",
            "\u001b[0;31mAttributeError\u001b[0m                            Traceback (most recent call last)",
            "\u001b[0;32m<ipython-input-32-b09ccfefc4c1>\u001b[0m in \u001b[0;36m<cell line: 20>\u001b[0;34m()\u001b[0m\n\u001b[1;32m     18\u001b[0m \u001b[0;34m\u001b[0m\u001b[0m\n\u001b[1;32m     19\u001b[0m \u001b[0mc1\u001b[0m\u001b[0;34m=\u001b[0m\u001b[0mChild\u001b[0m\u001b[0;34m(\u001b[0m\u001b[0;34m)\u001b[0m\u001b[0;34m\u001b[0m\u001b[0;34m\u001b[0m\u001b[0m\n\u001b[0;32m---> 20\u001b[0;31m \u001b[0mc1\u001b[0m\u001b[0;34m.\u001b[0m\u001b[0mname\u001b[0m\u001b[0;34m\u001b[0m\u001b[0;34m\u001b[0m\u001b[0m\n\u001b[0m",
            "\u001b[0;31mAttributeError\u001b[0m: 'Child' object has no attribute 'name'"
          ]
        }
      ]
    },
    {
      "cell_type": "code",
      "source": [
        "import mother and father attribute\n",
        "2. add two new attributes in child constructor\n"
      ],
      "metadata": {
        "id": "UefESX0uT9IK"
      },
      "execution_count": null,
      "outputs": []
    },
    {
      "cell_type": "markdown",
      "source": [
        "POLYMORPHISM"
      ],
      "metadata": {
        "id": "kcxCDM1UUvae"
      }
    },
    {
      "cell_type": "code",
      "source": [
        "#method overloading\n",
        "\n",
        "class Student:\n",
        "  def __init__(self,m1,m2):\n",
        "    self.m1=m1\n",
        "    self.m2=m2\n",
        "  def __add__(self,other):\n",
        "    m1=self.m1+other.m1\n",
        "    m2=self.m2+other.m2\n",
        "    s3=Student(m1,m2)\n",
        "    return s3\n",
        "  def __sub__(self,other):\n",
        "    m1=self.m1-other.m1\n",
        "    m2 = self.m2 - other.m2\n",
        "    s3=Student(m1,m1)\n",
        "    return s3\n",
        "\n",
        "  def __gt__(self,other):\n",
        "    m1=self.m1 + self.m2\n",
        "    m2 = other.m1 + other.m2\n",
        "    if m1 > m2:\n",
        "      return True\n",
        "    else:\n",
        "      return False\n",
        "  def __str__(self):\n",
        "    return f\"{self.m1},{self.m2}\"\n",
        "\n",
        "\n",
        "\n",
        "s1=Student(100,20)\n",
        "s2=Student(20,50)\n",
        "#s3=Student.__add__(s1,s2)\n",
        "s3=s1+s2\n",
        "s3=s1-s2\n",
        "if s1 > s2:\n",
        "  print(\"s1 wins\")\n",
        "else:\n",
        "  print(\"s2 wins\")\n",
        "print(s1)   #__str__\n",
        "\n"
      ],
      "metadata": {
        "colab": {
          "base_uri": "https://localhost:8080/"
        },
        "id": "1qJTAGGDUxcU",
        "outputId": "6d9367d3-ac7b-42a6-f89b-81e97f905e79"
      },
      "execution_count": 20,
      "outputs": [
        {
          "output_type": "stream",
          "name": "stdout",
          "text": [
            "s1 wins\n",
            "100,20\n"
          ]
        }
      ]
    },
    {
      "cell_type": "markdown",
      "source": [
        "https://pynative.com/python/object-oriented-programming/\n",
        "https://www.w3resource.com/python-exercises/class-exercises/\n"
      ],
      "metadata": {
        "id": "x2Tntmk__Y4h"
      }
    },
    {
      "cell_type": "markdown",
      "source": [
        "**PRACTICE PROBLEMS**"
      ],
      "metadata": {
        "id": "ajx4koJCFBGe"
      }
    },
    {
      "cell_type": "code",
      "source": [
        "class Person:\n",
        "  def __init__(self,name,sex,profession):\n",
        "    self.name = name\n",
        "    self.sex = sex\n",
        "    self.profession =profession\n",
        "  def work(self):\n",
        "    print(f\"she is working as a {self.profession}\")\n",
        "p1 = Person(\"jim\",'male','doctor')\n",
        "p1.work()\n",
        "p2 = Person(\"jessa\",\"female\",\"software engineer\")\n",
        "p2.work()\n",
        "\n"
      ],
      "metadata": {
        "id": "quQ95D4R_Yt6",
        "colab": {
          "base_uri": "https://localhost:8080/"
        },
        "outputId": "e3d94a21-7fce-4891-d481-0cadbe8b9a27"
      },
      "execution_count": null,
      "outputs": [
        {
          "output_type": "stream",
          "name": "stdout",
          "text": [
            "she is working as a doctor\n",
            "she is working as a software engineer\n"
          ]
        }
      ]
    },
    {
      "cell_type": "markdown",
      "source": [
        "Write a Python program to create a Vehicle class with max_speed and mileage instance attributes."
      ],
      "metadata": {
        "id": "xo-vVJ3-Gns0"
      }
    },
    {
      "cell_type": "code",
      "source": [
        "class Vehicle:\n",
        "  def __init__(self,max_speed,mileage):\n",
        "    self.max_speed = max_speed\n",
        "    self.mileage = mileage\n",
        "v1= Vehicle(100,20)\n",
        "print(v1.max_speed)\n",
        "print(v1.mileage)\n"
      ],
      "metadata": {
        "colab": {
          "base_uri": "https://localhost:8080/"
        },
        "id": "A7zbWNlVGoa-",
        "outputId": "3c284808-e3bb-46a7-d1fd-4e289ebcec51"
      },
      "execution_count": null,
      "outputs": [
        {
          "output_type": "stream",
          "name": "stdout",
          "text": [
            "100\n",
            "20\n"
          ]
        }
      ]
    },
    {
      "cell_type": "markdown",
      "source": [
        "Create a Vehicle class without any variables and methods"
      ],
      "metadata": {
        "id": "0dYkiaYHHjO0"
      }
    },
    {
      "cell_type": "code",
      "source": [
        "class Vehicle:\n",
        "    pass\n",
        "v1 = Vehicle()"
      ],
      "metadata": {
        "id": "ArV6ymqQHMOt"
      },
      "execution_count": null,
      "outputs": []
    },
    {
      "cell_type": "markdown",
      "source": [
        "Create a child class Bus that will inherit all of the variables and methods of the Vehicle class"
      ],
      "metadata": {
        "id": "BoPtVF1XH4pU"
      }
    },
    {
      "cell_type": "code",
      "source": [
        "\"\"\"\n",
        "class Vehicle:\n",
        "  def __init__(self,max_speed,mileage):\n",
        "    self.max_speed=max_speed\n",
        "    self.mileage=mileage\n",
        "class Bus(Vehicle):\n",
        "  def __init__(self,max_speed,mileage,name):\n",
        "    super().__init__(max_speed,mileage)\n",
        "    self.name = name\n",
        "    print(f\"max speed of {self.name} is {self.max_speed} and mileage is {self.mileage}\")\n",
        "\n",
        "bus1 = Bus(100,20,\"volvo\")\n",
        "\"\"\"\n",
        "class Vehicle:\n",
        "  def __init__(self,max_speed,mileage):\n",
        "    self.max_speed=max_speed\n",
        "    self.mileage=mileage\n",
        "class Bus(Vehicle):\n",
        "  pass\n",
        "bus1 = Bus(100,20)\n",
        "print(f\"max speed  is {bus1.max_speed} and mileage is {bus1.mileage}\")\n",
        "\n"
      ],
      "metadata": {
        "colab": {
          "base_uri": "https://localhost:8080/"
        },
        "id": "jdUl1JL4H5OO",
        "outputId": "7fd2d167-53a2-4086-c8c0-59afa525b51e"
      },
      "execution_count": null,
      "outputs": [
        {
          "output_type": "stream",
          "name": "stdout",
          "text": [
            "max speed  is 100 and mileage is 20\n"
          ]
        }
      ]
    },
    {
      "cell_type": "markdown",
      "source": [
        "Create a Bus class that inherits from the Vehicle class. Give the capacity argument of Bus.seating_capacity() a default value of 50."
      ],
      "metadata": {
        "id": "g0mb7gH1LCIi"
      }
    },
    {
      "cell_type": "code",
      "source": [
        "class Vehicle:\n",
        "    def __init__(self, name, max_speed, mileage):\n",
        "        self.name = name\n",
        "        self.max_speed = max_speed\n",
        "        self.mileage = mileage\n",
        "\n",
        "    def seating_capacity(self, capacity):\n",
        "        return f\"The seating capacity of a {self.name} is {capacity} passengers\"\n",
        "class Bus(Vehicle):\n",
        "  def seating_capacity(self,capacity=50):\n",
        "    self.capacity = capacity\n",
        "    print(super().seating_capacity(self.capacity))\n",
        "\n",
        "\n",
        "\n",
        "bus1 = Bus(\"volvo\",100,20)\n",
        "bus1.seating_capacity(30)"
      ],
      "metadata": {
        "colab": {
          "base_uri": "https://localhost:8080/"
        },
        "id": "9qJVexhILHLG",
        "outputId": "75fc376e-bd36-4150-9742-0fc5cf5f5a54"
      },
      "execution_count": null,
      "outputs": [
        {
          "output_type": "stream",
          "name": "stdout",
          "text": [
            "The seating capacity of a volvo is 30 passengers\n"
          ]
        }
      ]
    },
    {
      "cell_type": "code",
      "source": [
        "class Mammals:\n",
        "  def defineM(self):\n",
        "    print(\"i am mammal\")\n",
        "class Marine_animals:\n",
        "  def defineMa(self):\n",
        "    print(\"i am marine animal\")\n",
        "class Blue_whale(Mammals,Marine_animals):\n",
        "  def define(self):\n",
        "    print(\"i belong to both classes\")\n",
        "\n",
        "\n",
        "m1=Mammals()\n",
        "ma=Marine_animals()\n",
        "b1=Blue_whale()\n",
        "m1.defineM()\n",
        "ma.defineMa()\n",
        "b1.define()\n",
        "b1.defineM()\n",
        "b1.defineMa()"
      ],
      "metadata": {
        "colab": {
          "base_uri": "https://localhost:8080/"
        },
        "id": "EoRu5rozWLbH",
        "outputId": "21906723-d3eb-474a-bad0-451b6663edef"
      },
      "execution_count": null,
      "outputs": [
        {
          "output_type": "stream",
          "name": "stdout",
          "text": [
            "i am mammal\n",
            "i am marine animal\n",
            "i belong to both classes\n",
            "i am mammal\n",
            "i am marine animal\n"
          ]
        }
      ]
    },
    {
      "cell_type": "code",
      "source": [
        "class Fruit:\n",
        "  total_fruits=0\n",
        "class Apple(Fruit):\n",
        "  total_app=0\n",
        "  def __init__(self):\n",
        "    Apple.total_app+=1\n",
        "    Fruit.total_fruits+=1\n",
        "class Mango(Fruit):\n",
        "  total_mango=0\n",
        "  def __init__(self):\n",
        "    Mango.total_mango+=1\n",
        "    Fruit.total_fruits+=1\n",
        "\n",
        "a1=Apple()\n",
        "a2=Apple()\n",
        "a3=Apple()\n",
        "print(Apple.total_app)\n",
        "m1=Mango()\n",
        "m2=Mango()\n",
        "print(Mango.total_mango)\n",
        "print(m1.total_mango)\n",
        "Apple.total_fruits\n",
        "Mango.total_fruits\n"
      ],
      "metadata": {
        "colab": {
          "base_uri": "https://localhost:8080/"
        },
        "id": "G7UBcJL6YOnE",
        "outputId": "d334ef2e-4557-44cf-f61b-8d48a1776d56"
      },
      "execution_count": null,
      "outputs": [
        {
          "output_type": "stream",
          "name": "stdout",
          "text": [
            "3\n",
            "2\n",
            "2\n"
          ]
        },
        {
          "output_type": "execute_result",
          "data": {
            "text/plain": [
              "5"
            ]
          },
          "metadata": {},
          "execution_count": 42
        }
      ]
    },
    {
      "cell_type": "code",
      "source": [
        "class Marks(Phy):\n",
        "  roll_no=0\n",
        "  def __init__(self,name,marks):\n",
        "    Marks.roll_no+=1\n",
        "    self.name=name\n",
        "    self.marks=marks\n",
        "    self.roll_no=Marks.roll_no\n",
        "  \n",
        "class Phy:\n",
        "  def __init__(self,marks,name):\n",
        "    self.name=name\n",
        "    self.marks=marks\n",
        "  def add_marks(self):\n",
        "\n",
        "class Math(Marks):\n",
        "\n",
        "class chem(Marks):\n"
      ],
      "metadata": {
        "id": "JW_6av64aGyU"
      },
      "execution_count": null,
      "outputs": []
    },
    {
      "cell_type": "markdown",
      "source": [
        "https://www.codesdope.com/practice/cpp-multiple-inheritance/"
      ],
      "metadata": {
        "id": "QyGFQdx4cBlj"
      }
    }
  ]
}