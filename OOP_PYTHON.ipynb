{
  "nbformat": 4,
  "nbformat_minor": 0,
  "metadata": {
    "colab": {
      "provenance": [],
      "authorship_tag": "ABX9TyNS0gzO+/S5blLIIpu9r1RR",
      "include_colab_link": true
    },
    "kernelspec": {
      "name": "python3",
      "display_name": "Python 3"
    },
    "language_info": {
      "name": "python"
    }
  },
  "cells": [
    {
      "cell_type": "markdown",
      "metadata": {
        "id": "view-in-github",
        "colab_type": "text"
      },
      "source": [
        "<a href=\"https://colab.research.google.com/github/AAMNAWAHEED/PYTHON/blob/master/OOP_PYTHON.ipynb\" target=\"_parent\"><img src=\"https://colab.research.google.com/assets/colab-badge.svg\" alt=\"Open In Colab\"/></a>"
      ]
    },
    {
      "cell_type": "code",
      "execution_count": null,
      "metadata": {
        "colab": {
          "base_uri": "https://localhost:8080/"
        },
        "id": "9BjdOAcdvauQ",
        "outputId": "364b1698-02b9-4f7d-f99c-78f45fd22e21"
      },
      "outputs": [
        {
          "output_type": "stream",
          "name": "stdout",
          "text": [
            "23\n"
          ]
        }
      ],
      "source": [
        " class Dog:\n",
        "  def __init__(self,name,age):\n",
        "    self.name=name\n",
        "    self.age=age\n",
        "  def set_age(self,age):\n",
        "    self.age=age\n",
        "  def set_hei(self,height):\n",
        "    self.height=height\n",
        "  def bark(self):\n",
        "    print(\"barking\")\n",
        "d=Dog(\"Bill\",12)\n",
        "d.set_hei(23)\n",
        "print(d.height)\n"
      ]
    },
    {
      "cell_type": "code",
      "source": [
        "class Student:\n",
        "  \n",
        "  def __init__(self,name,age,grade):\n",
        "    self.age=age\n",
        "    self.name=name\n",
        "    self.grade=grade\n",
        "  def get_grade(self):\n",
        "    return self.grade\n",
        "class Course:\n",
        "  def __init__(self,course,max_stu):\n",
        "    self.course=course\n",
        "    self.max_stu=max_stu\n",
        "    self.students=[]\n",
        "    \n",
        "  def add_stu(self,student):\n",
        "    if len(self.students) < self.max_stu:\n",
        "      self.students.append(student)\n",
        "  def get_avg_grade(self):\n",
        "    value=0\n",
        "    for stu in self.students:\n",
        "      value +=stu.get_grade()\n",
        "    avg=value/len(self.students)\n",
        "    return avg\n",
        "    \n",
        "\n",
        "\n",
        "s1=Student(\"ali\",22,95)\n",
        "s2=Student(\"hassan\",23,75)\n",
        "s3=Student(\"jamal\",21,99)\n",
        "course = Course(\"science\",2)\n",
        "course.add_stu(s1)\n",
        "print(course.get_avg_grade())\n"
      ],
      "metadata": {
        "colab": {
          "base_uri": "https://localhost:8080/"
        },
        "id": "rI5tP6T8z4i8",
        "outputId": "5ad0eb09-8ee3-4749-bdbd-ae3591a8e01b"
      },
      "execution_count": 9,
      "outputs": [
        {
          "output_type": "stream",
          "name": "stdout",
          "text": [
            "95.0\n"
          ]
        }
      ]
    },
    {
      "cell_type": "code",
      "source": [
        "class Pet:\n",
        "  def __init__(self,name,age):\n",
        "    self.name=name\n",
        "    self.age=age\n",
        "  def show(self):\n",
        "    print(f\"{self.name}  {self.age}\")\n",
        "  def speak(self):\n",
        "    print(\"I dont know to speak\")\n",
        "class Cat(Pet):\n",
        "  def __init__(self,name,age,color):\n",
        "    super().__init__(name,age)\n",
        "    self.color=color\n",
        "  def show(self):\n",
        "    print(f\"{self.name}  {self.age} {self.color}\")\n",
        "  def speak(self):\n",
        "    print(\"meow\")\n",
        "class Dog(Pet):\n",
        "  def speak(self):\n",
        "    print(\"woof\")\n",
        "class Fish(Pet):\n",
        "  pass\n",
        "p=Pet(\"bill\",2)\n",
        "c=Cat(\"jill\",3,'red')\n",
        "c.show()\n",
        "c.speak()\n",
        "d=Dog('john',4)\n",
        "d.speak()\n",
        "d.show()\n",
        "f = Fish(\"fiff\",1)\n",
        "f.show()\n",
        "f.speak()\n",
        "\n",
        "\n"
      ],
      "metadata": {
        "colab": {
          "base_uri": "https://localhost:8080/"
        },
        "id": "IWGylhLc7SHn",
        "outputId": "3f80a402-a6d9-472e-a6c6-8ed64f0b02b5"
      },
      "execution_count": null,
      "outputs": [
        {
          "output_type": "stream",
          "name": "stdout",
          "text": [
            "jill  3 red\n",
            "meow\n",
            "woof\n",
            "john  4\n",
            "fiff  1\n",
            "I dont know to speak\n"
          ]
        }
      ]
    },
    {
      "cell_type": "code",
      "source": [
        "class Person:\n",
        "  no_of_person = 0\n",
        "  def __init__(self,name):\n",
        "    self.name=name\n",
        "    Person.no_of_person +=1\n",
        "p1=Person(\"jill\")\n",
        "print(Person.no_of_person)\n",
        "p2 = Person(\"Bill\")\n",
        "print(Person.no_of_person)\n",
        "p3 = Person(\"kim\")\n",
        "print(p3.no_of_person)"
      ],
      "metadata": {
        "colab": {
          "base_uri": "https://localhost:8080/"
        },
        "id": "6l0ULV9Z9nt_",
        "outputId": "4f8f92e2-815c-44b8-d832-56868cfd6ccc"
      },
      "execution_count": 13,
      "outputs": [
        {
          "output_type": "stream",
          "name": "stdout",
          "text": [
            "1\n",
            "2\n",
            "3\n"
          ]
        }
      ]
    },
    {
      "cell_type": "code",
      "source": [
        "class Person:\n",
        "  number_of_people = 0\n",
        "  def __init__(self,name):\n",
        "    self.name=name\n",
        "    Person.add_people()\n",
        "  @classmethod\n",
        "  def add_people(cls):\n",
        "    cls.number_of_people +=1\n",
        "p1 = Person(\"jim\")\n",
        "print(Person.number_of_people)\n",
        "p2 = Person(\"john\")\n",
        "print(Person.number_of_people)\n",
        "\n"
      ],
      "metadata": {
        "colab": {
          "base_uri": "https://localhost:8080/"
        },
        "id": "k1BL_2IeByBI",
        "outputId": "a13b8b2e-558d-41e3-f0af-be1d255a365c"
      },
      "execution_count": 14,
      "outputs": [
        {
          "output_type": "stream",
          "name": "stdout",
          "text": [
            "1\n",
            "2\n"
          ]
        }
      ]
    },
    {
      "cell_type": "code",
      "source": [
        "class Math:\n",
        "  @classmethod\n",
        "  def pr(cls):\n",
        "    print(\"classmethod\")\n",
        "  @staticmethod\n",
        "  def add1(x):\n",
        "    return x+1\n",
        "print(Math.add1(5))\n",
        "Math.pr()\n",
        "m1 = Math()\n",
        "#m1.pr()"
      ],
      "metadata": {
        "colab": {
          "base_uri": "https://localhost:8080/"
        },
        "id": "f-Xau_e4DrQI",
        "outputId": "b0edb31f-c980-4e8a-dd21-4f7fa4305bc8"
      },
      "execution_count": 20,
      "outputs": [
        {
          "output_type": "stream",
          "name": "stdout",
          "text": [
            "6\n",
            "classmethod\n"
          ]
        }
      ]
    },
    {
      "cell_type": "markdown",
      "source": [
        "https://pynative.com/python/object-oriented-programming/\n",
        "https://www.w3resource.com/python-exercises/class-exercises/\n"
      ],
      "metadata": {
        "id": "x2Tntmk__Y4h"
      }
    },
    {
      "cell_type": "markdown",
      "source": [
        "**PRACTICE PROBLEMS**"
      ],
      "metadata": {
        "id": "ajx4koJCFBGe"
      }
    },
    {
      "cell_type": "code",
      "source": [
        "class Person:\n",
        "  def __init__(self,name,sex,profession):\n",
        "    self.name = name\n",
        "    self.sex = sex\n",
        "    self.profession =profession\n",
        "  def work(self):\n",
        "    print(f\"she is working as a {self.profession}\")\n",
        "p1 = Person(\"jim\",'male','doctor')\n",
        "p1.work()\n",
        "p2 = Person(\"jessa\",\"female\",\"software engineer\")\n",
        "p2.work()\n",
        "\n"
      ],
      "metadata": {
        "id": "quQ95D4R_Yt6",
        "colab": {
          "base_uri": "https://localhost:8080/"
        },
        "outputId": "e3d94a21-7fce-4891-d481-0cadbe8b9a27"
      },
      "execution_count": 21,
      "outputs": [
        {
          "output_type": "stream",
          "name": "stdout",
          "text": [
            "she is working as a doctor\n",
            "she is working as a software engineer\n"
          ]
        }
      ]
    },
    {
      "cell_type": "markdown",
      "source": [
        "Write a Python program to create a Vehicle class with max_speed and mileage instance attributes."
      ],
      "metadata": {
        "id": "xo-vVJ3-Gns0"
      }
    },
    {
      "cell_type": "code",
      "source": [
        "class Vehicle:\n",
        "  def __init__(self,max_speed,mileage):\n",
        "    self.max_speed = max_speed\n",
        "    self.mileage = mileage\n",
        "v1= Vehicle(100,20)\n",
        "print(v1.max_speed)\n",
        "print(v1.mileage)\n"
      ],
      "metadata": {
        "colab": {
          "base_uri": "https://localhost:8080/"
        },
        "id": "A7zbWNlVGoa-",
        "outputId": "3c284808-e3bb-46a7-d1fd-4e289ebcec51"
      },
      "execution_count": 27,
      "outputs": [
        {
          "output_type": "stream",
          "name": "stdout",
          "text": [
            "100\n",
            "20\n"
          ]
        }
      ]
    },
    {
      "cell_type": "markdown",
      "source": [
        "Create a Vehicle class without any variables and methods"
      ],
      "metadata": {
        "id": "0dYkiaYHHjO0"
      }
    },
    {
      "cell_type": "code",
      "source": [
        "class Vehicle:\n",
        "    pass\n",
        "v1 = Vehicle()"
      ],
      "metadata": {
        "id": "ArV6ymqQHMOt"
      },
      "execution_count": 29,
      "outputs": []
    },
    {
      "cell_type": "markdown",
      "source": [
        "Create a child class Bus that will inherit all of the variables and methods of the Vehicle class"
      ],
      "metadata": {
        "id": "BoPtVF1XH4pU"
      }
    },
    {
      "cell_type": "code",
      "source": [
        "\"\"\"\n",
        "class Vehicle:\n",
        "  def __init__(self,max_speed,mileage):\n",
        "    self.max_speed=max_speed\n",
        "    self.mileage=mileage\n",
        "class Bus(Vehicle):\n",
        "  def __init__(self,max_speed,mileage,name):\n",
        "    super().__init__(max_speed,mileage)\n",
        "    self.name = name\n",
        "    print(f\"max speed of {self.name} is {self.max_speed} and mileage is {self.mileage}\")\n",
        "\n",
        "bus1 = Bus(100,20,\"volvo\")\n",
        "\"\"\"\n",
        "class Vehicle:\n",
        "  def __init__(self,max_speed,mileage):\n",
        "    self.max_speed=max_speed\n",
        "    self.mileage=mileage\n",
        "class Bus(Vehicle):\n",
        "  pass\n",
        "bus1 = Bus(100,20)\n",
        "print(f\"max speed  is {bus1.max_speed} and mileage is {bus1.mileage}\")\n",
        "\n"
      ],
      "metadata": {
        "colab": {
          "base_uri": "https://localhost:8080/"
        },
        "id": "jdUl1JL4H5OO",
        "outputId": "7fd2d167-53a2-4086-c8c0-59afa525b51e"
      },
      "execution_count": 34,
      "outputs": [
        {
          "output_type": "stream",
          "name": "stdout",
          "text": [
            "max speed  is 100 and mileage is 20\n"
          ]
        }
      ]
    },
    {
      "cell_type": "markdown",
      "source": [
        "Create a Bus class that inherits from the Vehicle class. Give the capacity argument of Bus.seating_capacity() a default value of 50."
      ],
      "metadata": {
        "id": "g0mb7gH1LCIi"
      }
    },
    {
      "cell_type": "code",
      "source": [
        "class Vehicle:\n",
        "    def __init__(self, name, max_speed, mileage):\n",
        "        self.name = name\n",
        "        self.max_speed = max_speed\n",
        "        self.mileage = mileage\n",
        "\n",
        "    def seating_capacity(self, capacity):\n",
        "        return f\"The seating capacity of a {self.name} is {capacity} passengers\"\n",
        "class Bus(Vehicle):\n",
        "  def seating_capacity(self,capacity=50):\n",
        "    self.capacity = capacity\n",
        "    print(super().seating_capacity(self.capacity))\n",
        "\n",
        "\n",
        "\n",
        "bus1 = Bus(\"volvo\",100,20)\n",
        "bus1.seating_capacity(30)"
      ],
      "metadata": {
        "colab": {
          "base_uri": "https://localhost:8080/"
        },
        "id": "9qJVexhILHLG",
        "outputId": "75fc376e-bd36-4150-9742-0fc5cf5f5a54"
      },
      "execution_count": 43,
      "outputs": [
        {
          "output_type": "stream",
          "name": "stdout",
          "text": [
            "The seating capacity of a volvo is 30 passengers\n"
          ]
        }
      ]
    }
  ]
}