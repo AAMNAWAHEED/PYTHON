{
  "nbformat": 4,
  "nbformat_minor": 0,
  "metadata": {
    "colab": {
      "provenance": [],
      "authorship_tag": "ABX9TyNdiBFmSXM6YYB+VUvSOng/",
      "include_colab_link": true
    },
    "kernelspec": {
      "name": "python3",
      "display_name": "Python 3"
    },
    "language_info": {
      "name": "python"
    }
  },
  "cells": [
    {
      "cell_type": "markdown",
      "metadata": {
        "id": "view-in-github",
        "colab_type": "text"
      },
      "source": [
        "<a href=\"https://colab.research.google.com/github/AAMNAWAHEED/PYTHON/blob/master/OOP_PYTHON.ipynb\" target=\"_parent\"><img src=\"https://colab.research.google.com/assets/colab-badge.svg\" alt=\"Open In Colab\"/></a>"
      ]
    },
    {
      "cell_type": "code",
      "execution_count": 10,
      "metadata": {
        "colab": {
          "base_uri": "https://localhost:8080/"
        },
        "id": "9BjdOAcdvauQ",
        "outputId": "364b1698-02b9-4f7d-f99c-78f45fd22e21"
      },
      "outputs": [
        {
          "output_type": "stream",
          "name": "stdout",
          "text": [
            "23\n"
          ]
        }
      ],
      "source": [
        "class Dog:\n",
        "  def __init__(self,name,age):\n",
        "    self.name=name\n",
        "    self.age=age\n",
        "  def set_age(self,age):\n",
        "    self.age=age\n",
        "  def set_hei(self,height):\n",
        "    self.height=height\n",
        "  def bark(self):\n",
        "    print(\"barking\")\n",
        "d=Dog(\"Bill\",12)\n",
        "d.set_hei(23)\n",
        "print(d.height)\n"
      ]
    },
    {
      "cell_type": "code",
      "source": [
        "class Student:\n",
        "  def __init__(self,name,age,grade):\n",
        "    self.age=age\n",
        "    self.name=name\n",
        "    self.grade=grade\n",
        "  def get_grade(self):\n",
        "    return self.grade\n",
        "class Course:\n",
        "  def __init__(self,course,max_stu):\n",
        "    self.course=course\n",
        "    self.max_stu=max_stu\n",
        "    self.students=[]\n",
        "  def add_stu(self,student):\n",
        "    if len(self.students) < self.max_stu:\n",
        "      self.students.append(student)\n",
        "  def get_avg_grade(self):\n",
        "    value=0\n",
        "    for stu in self.students:\n",
        "      value +=stu.get_grade()\n",
        "    avg=value/len(self.students)\n",
        "    return avg\n",
        "    \n",
        "\n",
        "\n",
        "s1=Student(\"ali\",22,95)\n",
        "s2=Student(\"hassan\",23,75)\n",
        "s3=Student(\"jamal\",21,99)\n",
        "course = Course(\"science\",2)\n",
        "course.add_stu(s1)\n",
        "course.add_stu(s2)\n",
        "print(course.get_avg_grade())\n"
      ],
      "metadata": {
        "colab": {
          "base_uri": "https://localhost:8080/"
        },
        "id": "rI5tP6T8z4i8",
        "outputId": "8546c914-f38f-499b-e6b5-da8515a21f8b"
      },
      "execution_count": 27,
      "outputs": [
        {
          "output_type": "stream",
          "name": "stdout",
          "text": [
            "85.0\n"
          ]
        }
      ]
    },
    {
      "cell_type": "code",
      "source": [
        "class Pet:\n",
        "  def __init__(self,name,age):\n",
        "    self.name=name\n",
        "    self.age=age\n",
        "  def show(self):\n",
        "    print(f\"{self.name}  {self.age}\")\n",
        "  def speak(self):\n",
        "    print(\"I dont know to speak\")\n",
        "class Cat(Pet):\n",
        "  def __init__(self,name,age,color):\n",
        "    super().__init__(name,age)\n",
        "    self.color=color\n",
        "  def show(self):\n",
        "    print(f\"{self.name}  {self.age} {self.color}\")\n",
        "  def speak(self):\n",
        "    print(\"meow\")\n",
        "class Dog(Pet):\n",
        "  def speak(self):\n",
        "    print(\"woof\")\n",
        "class Fish(Pet):\n",
        "  pass\n",
        "p=Pet(\"bill\",2)\n",
        "c=Cat(\"jill\",3,'red')\n",
        "c.show()\n",
        "c.speak()\n",
        "d=Dog('john',4)\n",
        "d.speak()\n",
        "d.show()\n",
        "f = Fish(\"fiff\",1)\n",
        "f.show()\n",
        "f.speak()\n",
        "\n",
        "\n"
      ],
      "metadata": {
        "colab": {
          "base_uri": "https://localhost:8080/"
        },
        "id": "IWGylhLc7SHn",
        "outputId": "3f80a402-a6d9-472e-a6c6-8ed64f0b02b5"
      },
      "execution_count": 40,
      "outputs": [
        {
          "output_type": "stream",
          "name": "stdout",
          "text": [
            "jill  3 red\n",
            "meow\n",
            "woof\n",
            "john  4\n",
            "fiff  1\n",
            "I dont know to speak\n"
          ]
        }
      ]
    },
    {
      "cell_type": "markdown",
      "source": [
        "https://pynative.com/python/object-oriented-programming/\n",
        "https://www.w3resource.com/python-exercises/class-exercises/\n"
      ],
      "metadata": {
        "id": "x2Tntmk__Y4h"
      }
    },
    {
      "cell_type": "code",
      "source": [],
      "metadata": {
        "id": "quQ95D4R_Yt6"
      },
      "execution_count": null,
      "outputs": []
    }
  ]
}