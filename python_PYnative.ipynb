{
  "nbformat": 4,
  "nbformat_minor": 0,
  "metadata": {
    "colab": {
      "provenance": [],
      "authorship_tag": "ABX9TyPOLiJZxkBQC+n29BW2+LJs",
      "include_colab_link": true
    },
    "kernelspec": {
      "name": "python3",
      "display_name": "Python 3"
    },
    "language_info": {
      "name": "python"
    }
  },
  "cells": [
    {
      "cell_type": "markdown",
      "metadata": {
        "id": "view-in-github",
        "colab_type": "text"
      },
      "source": [
        "<a href=\"https://colab.research.google.com/github/AAMNAWAHEED/PYTHON/blob/master/python_PYnative.ipynb\" target=\"_parent\"><img src=\"https://colab.research.google.com/assets/colab-badge.svg\" alt=\"Open In Colab\"/></a>"
      ]
    },
    {
      "cell_type": "markdown",
      "source": [
        "Given two integer numbers return their product only if the product is equal to or lower than 1000, else return their sum."
      ],
      "metadata": {
        "id": "zAK-biG3uGWX"
      }
    },
    {
      "cell_type": "code",
      "source": [
        "num1 = 10\n",
        "num2 = 20\n",
        "if num1*num2 <=1000:\n",
        "  print(num1*num2)\n",
        "else:\n",
        "  print(num1+num2)"
      ],
      "metadata": {
        "colab": {
          "base_uri": "https://localhost:8080/"
        },
        "id": "oYIpfW-zuGCO",
        "outputId": "29d80267-96bc-452b-f81c-62cecab067b4"
      },
      "execution_count": 1,
      "outputs": [
        {
          "output_type": "stream",
          "name": "stdout",
          "text": [
            "200\n"
          ]
        }
      ]
    },
    {
      "cell_type": "markdown",
      "source": [
        "2-Write a program to iterate the first 10 numbers and in each iteration, print the sum of the current and previous number."
      ],
      "metadata": {
        "id": "CpGhh2CevQ5z"
      }
    },
    {
      "cell_type": "code",
      "execution_count": 4,
      "metadata": {
        "colab": {
          "base_uri": "https://localhost:8080/"
        },
        "id": "0Ze3LxsouD6c",
        "outputId": "4503089a-12e7-459f-bd4b-b9feb4d31264"
      },
      "outputs": [
        {
          "output_type": "stream",
          "name": "stdout",
          "text": [
            "1\n",
            "3\n",
            "6\n",
            "10\n",
            "15\n",
            "21\n",
            "28\n",
            "36\n",
            "45\n"
          ]
        }
      ],
      "source": [
        "numbers= range(1,10)\n",
        "sum=0\n",
        "for i in numbers:\n",
        "  print(sum+i)\n",
        "  sum=sum+i"
      ]
    },
    {
      "cell_type": "markdown",
      "source": [
        "Write a program to accept a string from the user and display characters that are present at an even index number."
      ],
      "metadata": {
        "id": "4cG7_4MdwRx3"
      }
    },
    {
      "cell_type": "code",
      "source": [
        "str = input(\"ENTER STRING:\")\n",
        "for i in range(len(str)):\n",
        "  if i%2 == 0:\n",
        "    print(str[i])\n",
        "\n",
        "\n"
      ],
      "metadata": {
        "colab": {
          "base_uri": "https://localhost:8080/"
        },
        "id": "EusSqkGiwGee",
        "outputId": "c6c21827-a18f-4e9d-d5e7-a02bec703eb9"
      },
      "execution_count": 7,
      "outputs": [
        {
          "output_type": "stream",
          "name": "stdout",
          "text": [
            "ENTER STRING:pynative\n",
            "p\n",
            "n\n",
            "t\n",
            "v\n"
          ]
        }
      ]
    },
    {
      "cell_type": "markdown",
      "source": [
        "Write a program to remove characters from a string starting from zero up to n and return a new string."
      ],
      "metadata": {
        "id": "qtl2Gs_ZxGr_"
      }
    },
    {
      "cell_type": "code",
      "source": [
        "old_str=input(\"enter string\")\n",
        "rem_char=int(input(\"numbers of characters you ant to remove\"))\n",
        "\"\"\"\n",
        "for i in range(rem_char):\n",
        "  new_str=old_str[i+1:]\n",
        "  print(new_str)\n",
        "\"\"\"\n",
        "new_str=old_str[rem_char:]\n",
        "print(new_str)\n",
        "\n"
      ],
      "metadata": {
        "colab": {
          "base_uri": "https://localhost:8080/"
        },
        "id": "4d9jmVkMxGYP",
        "outputId": "568a54d9-cf9e-46f3-db71-c915cd2ea334"
      },
      "execution_count": 2,
      "outputs": [
        {
          "output_type": "stream",
          "name": "stdout",
          "text": [
            "enter stringpynative\n",
            "numbers of characters you ant to remove4\n",
            "tive\n"
          ]
        }
      ]
    },
    {
      "cell_type": "markdown",
      "source": [
        "Write a function to return True if the first and last number of a given list is same. If numbers are different then return False."
      ],
      "metadata": {
        "id": "qvRm6hOgzzlH"
      }
    },
    {
      "cell_type": "code",
      "source": [
        "def last_eq_first(list):\n",
        "  if list[0]==list[-1]:\n",
        "    return True\n",
        "  else:\n",
        "    return False\n",
        "\n",
        "list=[]\n",
        "elem=int(input(\"enter number of elements to be in a list\"))\n",
        "for i in range(elem):\n",
        "  list.append(int(input(\"enter element\")))\n",
        "print(last_eq_first(list))"
      ],
      "metadata": {
        "colab": {
          "base_uri": "https://localhost:8080/"
        },
        "id": "zmFFPL_ZznLa",
        "outputId": "d76767ca-c48c-4ad8-fdf0-fc6b17891fff"
      },
      "execution_count": 10,
      "outputs": [
        {
          "output_type": "stream",
          "name": "stdout",
          "text": [
            "enter number of elements to be in a list5\n",
            "enter element1\n",
            "enter element2\n",
            "enter element3\n",
            "enter element4\n",
            "enter element1\n",
            "True\n"
          ]
        }
      ]
    },
    {
      "cell_type": "markdown",
      "source": [
        "Iterate the given list of numbers and print only those numbers which are divisible by 5"
      ],
      "metadata": {
        "id": "wFEoojwx1fNC"
      }
    },
    {
      "cell_type": "code",
      "source": [
        "list=[10,2,20,33,40]\n",
        "for i in list:\n",
        "  if i%5==0:\n",
        "    print(i)"
      ],
      "metadata": {
        "colab": {
          "base_uri": "https://localhost:8080/"
        },
        "id": "nIdq3-na1ghq",
        "outputId": "be9c094c-dc50-4d57-8938-3734c76b596d"
      },
      "execution_count": 11,
      "outputs": [
        {
          "output_type": "stream",
          "name": "stdout",
          "text": [
            "10\n",
            "20\n",
            "40\n"
          ]
        }
      ]
    },
    {
      "cell_type": "markdown",
      "source": [
        "Write a program to find how many times substring “Emma” appears in the given string."
      ],
      "metadata": {
        "id": "_XKN8x3R1zmc"
      }
    },
    {
      "cell_type": "code",
      "source": [
        "string = \"Emma is good developer. Emma is a writer,Emma\"\n",
        "substring='Emma'\n",
        "string.count(substring)\n"
      ],
      "metadata": {
        "colab": {
          "base_uri": "https://localhost:8080/"
        },
        "id": "xfER7CGL10oO",
        "outputId": "9d5ae6fe-ce7b-44c0-dcc2-b1e603d7a178"
      },
      "execution_count": 13,
      "outputs": [
        {
          "output_type": "execute_result",
          "data": {
            "text/plain": [
              "3"
            ]
          },
          "metadata": {},
          "execution_count": 13
        }
      ]
    },
    {
      "cell_type": "code",
      "source": [
        "\"\"\"\n",
        "1 \n",
        "2 2 \n",
        "3 3 3 \n",
        "4 4 4 4 \n",
        "5 5 5 5 5\n",
        "\"\"\"\n",
        "for i in range(1,5+1):\n",
        "  for j in range(i):\n",
        "    print(i,end='')\n",
        "  print('\\n')\n"
      ],
      "metadata": {
        "colab": {
          "base_uri": "https://localhost:8080/"
        },
        "id": "sxqTR5Ye2gap",
        "outputId": "798dcd60-31e7-4966-914b-6f657f0064fb"
      },
      "execution_count": 17,
      "outputs": [
        {
          "output_type": "stream",
          "name": "stdout",
          "text": [
            "1\n",
            "\n",
            "22\n",
            "\n",
            "333\n",
            "\n",
            "4444\n",
            "\n",
            "55555\n",
            "\n"
          ]
        }
      ]
    },
    {
      "cell_type": "code",
      "source": [
        "\"\"\"\n",
        "1 \n",
        "1 2 \n",
        "1 2 3 \n",
        "1 2 3 4 \n",
        "1 2 3 4 5\n",
        "\"\"\""
      ],
      "metadata": {
        "id": "Gd0ivHu_4U83"
      },
      "execution_count": null,
      "outputs": []
    },
    {
      "cell_type": "code",
      "source": [
        "for i in range(1,5+1):\n",
        "  for j in range(1,i+1):\n",
        "    print(j,end='')\n",
        "  print('\\n')"
      ],
      "metadata": {
        "colab": {
          "base_uri": "https://localhost:8080/"
        },
        "id": "kIGpdQeo4h25",
        "outputId": "3db88504-c84b-43c7-ccd2-0a4be5b46efb"
      },
      "execution_count": 21,
      "outputs": [
        {
          "output_type": "stream",
          "name": "stdout",
          "text": [
            "1\n",
            "\n",
            "12\n",
            "\n",
            "123\n",
            "\n",
            "1234\n",
            "\n",
            "12345\n",
            "\n"
          ]
        }
      ]
    },
    {
      "cell_type": "code",
      "source": [
        "\"\"\"\n",
        "1 1 1 1 1 \n",
        "2 2 2 2 \n",
        "3 3 3 \n",
        "4 4 \n",
        "5\n",
        "\"\"\""
      ],
      "metadata": {
        "id": "MqHbUIHL5I9G"
      },
      "execution_count": null,
      "outputs": []
    },
    {
      "cell_type": "code",
      "source": [],
      "metadata": {
        "id": "X7DNYSf26GkC"
      },
      "execution_count": null,
      "outputs": []
    },
    {
      "cell_type": "code",
      "source": [
        "row=5\n",
        "n=row+1\n",
        "for i in range(1,row+1):\n",
        "  for j  in range(1,n):\n",
        "    print(i,end='')\n",
        "  n=n-1\n",
        "  print(\"\\n\")\n"
      ],
      "metadata": {
        "colab": {
          "base_uri": "https://localhost:8080/"
        },
        "id": "AEziNmy15Pn2",
        "outputId": "b5d7e52b-9178-4bd9-bb45-dafaeb5821c1"
      },
      "execution_count": 27,
      "outputs": [
        {
          "output_type": "stream",
          "name": "stdout",
          "text": [
            "11111\n",
            "\n",
            "2222\n",
            "\n",
            "333\n",
            "\n",
            "44\n",
            "\n",
            "5\n",
            "\n"
          ]
        }
      ]
    },
    {
      "cell_type": "markdown",
      "source": [
        "https://pynative.com/print-pattern-python-examples/#h-pyramid-pattern-of-numbers"
      ],
      "metadata": {
        "id": "gDIteUg57Rsw"
      }
    }
  ]
}